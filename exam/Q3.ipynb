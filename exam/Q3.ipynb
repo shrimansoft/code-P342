{
 "cells": [
  {
   "cell_type": "code",
   "execution_count": 145,
   "metadata": {},
   "outputs": [],
   "source": [
    "import lib.My_library as my\n",
    "from matplotlib import pyplot as plt\n",
    "import math as m\n",
    "import random\n",
    "\n"
   ]
  },
  {
   "cell_type": "code",
   "execution_count": 146,
   "metadata": {},
   "outputs": [],
   "source": [
    " with open(\"./esem_table.txt\", 'r') as f: # reading the file and store in M as list    \n",
    "        M = [map(float,item.split()) for item in f.read().split('\\n')]\n",
    "        \n",
    "\n",
    "data = list(map(list,M))\n",
    "xvals, yvals = tuple(map(list, zip(*data)))"
   ]
  },
  {
   "cell_type": "code",
   "execution_count": 147,
   "metadata": {},
   "outputs": [],
   "source": [
    "def rms(data):\n",
    "    sum = 0\n",
    "    for point in data:\n",
    "        sum = sum + (point[0]-point[1])*(point[0]-point[1]) \n",
    "        \n",
    "    return m.sqrt(sum/len(data))\n",
    "    "
   ]
  },
  {
   "cell_type": "code",
   "execution_count": 148,
   "metadata": {},
   "outputs": [
    {
     "data": {
      "text/plain": [
       "<matplotlib.collections.PathCollection at 0x121302ef0>"
      ]
     },
     "execution_count": 148,
     "metadata": {},
     "output_type": "execute_result"
    },
    {
     "data": {
      "image/png": "[encoded data removed]",
      "text/plain": [
       "<Figure size 432x288 with 1 Axes>"
      ]
     },
     "metadata": {
      "needs_background": "light"
     },
     "output_type": "display_data"
    }
   ],
   "source": [
    "plt.scatter(*zip(*data))"
   ]
  },
  {
   "cell_type": "code",
   "execution_count": 149,
   "metadata": {},
   "outputs": [],
   "source": [
    "def function1ToFit(a,b):\n",
    "    def fun(t):\n",
    "        return a+b*t\n",
    "    return fun\n",
    "\n",
    "def function2ToFit(a,b):\n",
    "    def fun(t):\n",
    "        return b*((2.71828)**((-1)*(a*t)))\n",
    "    return fun"
   ]
  },
  {
   "cell_type": "markdown",
   "metadata": {},
   "source": [
    "# w_0 +w_1 x fiting "
   ]
  },
  {
   "cell_type": "code",
   "execution_count": 157,
   "metadata": {},
   "outputs": [
    {
     "name": "stdout",
     "output_type": "stream",
     "text": [
      "New RMS value 0.0857 with paramiter w_0 =2.0291 w_1= -0.4747\n"
     ]
    }
   ],
   "source": [
    "paramiterGuss = [1,1]\n",
    "rmsValue = 0\n",
    "lamdaUpadate = 0.99\n",
    "lamda = 1\n",
    "for i in range(1000):\n",
    "    lamda = lamda*lamdaUpadate\n",
    "    paramiterGussList = []\n",
    "    for i in range(10):\n",
    "        dx = lamda*m.sin(random.uniform(0,1) * m.pi * 2)\n",
    "        dy = lamda*m.cos(random.uniform(0,1) * m.pi * 2)\n",
    "        paramiterGuss = (paramiterGuss[0]+ dx,paramiterGuss[1]+ dy)\n",
    "        paramiterGussList.append(paramiterGuss)\n",
    "        \n",
    "    rmsList= []\n",
    "    for paramiterGuss in paramiterGussList :\n",
    "        dataP=[]\n",
    "        for i in data:\n",
    "            fun = function1ToFit(*paramiterGuss)\n",
    "            yCal= fun(i[0])\n",
    "            dataP.append([i[1],yCal])\n",
    "\n",
    "        #print(dataP)\n",
    "        rmsList.append(rms(dataP))\n",
    "    #print(sorted(list(zip(rmsList,paramiterGussList)), key=lambda data: data[0]))\n",
    "    \n",
    "    paramiterGuss = sorted(list(zip(rmsList,paramiterGussList)), key=lambda data: data[0])[0][1]\n",
    "    rmsValue = sorted(list(zip(rmsList,paramiterGussList)), key=lambda data: data[0])[0][0]\n",
    "    #print(\"New RMS value \"+str(round(sorted(list(zip(rmsList,paramiterGussList)), key=lambda data: data[0])[0][0],4))+\" with paramiter w_0 =\"+str(round(paramiterGuss[0],4))+\" w_2= \"+str(round(paramiterGuss[1],4))) \n",
    "    \n",
    "\n",
    "print(\"New RMS value \"+str(round(rmsValue,4))+\" with paramiter w_0 =\"+str(round(paramiterGuss[0],4))+\" w_1= \"+str(round(paramiterGuss[1],4))) \n"
   ]
  },
  {
   "cell_type": "markdown",
   "metadata": {},
   "source": [
    "# W_1 * e^(-W_0x)"
   ]
  },
  {
   "cell_type": "code",
   "execution_count": 153,
   "metadata": {},
   "outputs": [
    {
     "name": "stdout",
     "output_type": "stream",
     "text": [
      "New RMS value 0.016 with paramiter w_0 =2.1959 w_2= 0.3927\n"
     ]
    }
   ],
   "source": [
    "paramiterGuss = [1,1]\n",
    "rmsValue = 0\n",
    "lamdaUpadate = 0.99\n",
    "lamda = 1\n",
    "for i in range(1000):\n",
    "    lamda = lamda*lamdaUpadate\n",
    "    paramiterGussList = []\n",
    "    for i in range(10):\n",
    "        dx = lamda*m.sin(random.uniform(0,1) * m.pi * 2)\n",
    "        dy = lamda*m.cos(random.uniform(0,1) * m.pi * 2)\n",
    "        paramiterGuss = (paramiterGuss[0]+ dx,paramiterGuss[1]+ dy)\n",
    "        paramiterGussList.append(paramiterGuss)\n",
    "        \n",
    "    rmsList= []\n",
    "    for paramiterGuss in paramiterGussList :\n",
    "        dataP=[]\n",
    "        for i in data:\n",
    "            fun = function2ToFit(*paramiterGuss)\n",
    "            yCal= fun(i[0])\n",
    "            dataP.append([i[1],yCal])\n",
    "\n",
    "        #print(dataP)\n",
    "        rmsList.append(rms(dataP))\n",
    "    #print(sorted(list(zip(rmsList,paramiterGussList)), key=lambda data: data[0]))\n",
    "    \n",
    "    paramiterGuss = sorted(list(zip(rmsList,paramiterGussList)), key=lambda data: data[0])[0][1]\n",
    "    rmsValue = sorted(list(zip(rmsList,paramiterGussList)), key=lambda data: data[0])[0][0]\n",
    "    #print(\"New RMS value \"+str(round(sorted(list(zip(rmsList,paramiterGussList)), key=lambda data: data[0])[0][0],4))+\" with paramiter w_0 =\"+str(round(paramiterGuss[0],4))+\" w_2= \"+str(round(paramiterGuss[1],4))) \n",
    "\n",
    "print(\"New RMS value \"+str(round(rmsValue,4))+\" with paramiter w_0 =\"+str(round(paramiterGuss[0],4))+\" w_1= \"+str(round(paramiterGuss[1],4))) \n",
    "\n",
    "\n"
   ]
  },
  {
   "cell_type": "code",
   "execution_count": null,
   "metadata": {},
   "outputs": [],
   "source": []
  },
  {
   "cell_type": "code",
   "execution_count": null,
   "metadata": {},
   "outputs": [],
   "source": []
  },
  {
   "cell_type": "code",
   "execution_count": null,
   "metadata": {},
   "outputs": [],
   "source": []
  }
 ],
 "metadata": {
  "kernelspec": {
   "display_name": "Python 3",
   "language": "python",
   "name": "python3"
  },
  "language_info": {
   "codemirror_mode": {
    "name": "ipython",
    "version": 3
   },
   "file_extension": ".py",
   "mimetype": "text/x-python",
   "name": "python",
   "nbconvert_exporter": "python",
   "pygments_lexer": "ipython3",
   "version": "3.7.3"
  }
 },
 "nbformat": 4,
 "nbformat_minor": 4
}
